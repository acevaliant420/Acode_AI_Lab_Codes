{
 "cells": [
  {
   "cell_type": "code",
   "execution_count": null,
   "id": "initial_id",
   "metadata": {
    "collapsed": true
   },
   "outputs": [],
   "source": [
    "#1.1\n",
    "# pseudocode for a graph search agent\n",
    "\n",
    "def graph_search_agent(start_state, goal_state):\n",
    "    # Initialize the priority queue (min-heap) for the frontier\n",
    "    frontier = priority_queue()  # Min-heap based on node's f value (g + h)\n",
    "    explored_set = set()         # Set to track visited states\n",
    "    nodes_explored = 0           # Counter for explored nodes\n",
    "\n",
    "    # Create the start node with g = 0 and heuristic h\n",
    "    start_node = Node(start_state, g=0, h=heuristic(start_state, goal_state))\n",
    "    frontier.push(start_node)\n",
    "\n",
    "    # Loop until the frontier is empty\n",
    "    while frontier is not empty:\n",
    "        # Pop the node with the lowest f value\n",
    "        node = frontier.pop()\n",
    "        nodes_explored += 1\n",
    "\n",
    "        # Check if the goal state is reached\n",
    "        if node.state == goal_state:\n",
    "            return backtrack_path(node)  # Return the solution path\n",
    "\n",
    "        # Add the current node's state to the explored set\n",
    "        explored_set.add(node.state)\n",
    "\n",
    "        # Generate all successor states of the current node\n",
    "        for successor_state in get_successors(node):\n",
    "            # Only explore new states (not in explored_set)\n",
    "            if successor_state not in explored_set:\n",
    "                # Calculate new g (cost) and h (heuristic) values\n",
    "                g = node.g + 1\n",
    "                h = heuristic(successor_state, goal_state)\n",
    "                successor_node = Node(successor_state, parent=node, g=g, h=h)\n",
    "                \n",
    "                # Push the successor node into the frontier\n",
    "                frontier.push(successor_node)\n",
    "\n",
    "    return None  # Return failure if no solution is found"
   ]
  },
  {
   "cell_type": "code",
   "outputs": [],
   "source": [
    "#1.4\n",
    "# function which can backtrack and produce the path taken to reach the goal state from the source/ initial state\n",
    "def backtrack_path(goal_node):\n",
    "    path = []  # Initialize an empty list to store the path\n",
    "    current_node = goal_node  # Start backtracking from the goal node\n",
    "\n",
    "    # Traverse up the tree by following parent links\n",
    "    while current_node is not None:\n",
    "        path.insert(0, current_node.state)  # Prepend the current state to the path\n",
    "        current_node = current_node.parent  # Move to the parent node\n",
    "\n",
    "    return path  # Return the final solution path from source to goal\n",
    "\n"
   ],
   "metadata": {
    "collapsed": false,
    "ExecuteTime": {
     "end_time": "2024-09-29T07:39:14.443496Z",
     "start_time": "2024-09-29T07:39:14.440357Z"
    }
   },
   "id": "4a0203e9abdeeb7d",
   "execution_count": 2
  },
  {
   "cell_type": "code",
   "outputs": [
    {
     "ename": "NameError",
     "evalue": "name 'graph_search_agent' is not defined",
     "output_type": "error",
     "traceback": [
      "\u001B[1;31m---------------------------------------------------------------------------\u001B[0m",
      "\u001B[1;31mNameError\u001B[0m                                 Traceback (most recent call last)",
      "Cell \u001B[1;32mIn[4], line 56\u001B[0m\n\u001B[0;32m     53\u001B[0m search_depth \u001B[38;5;241m=\u001B[39m \u001B[38;5;241m16\u001B[39m\n\u001B[0;32m     55\u001B[0m \u001B[38;5;66;03m# Call the search agent with the provided states and maximum depth\u001B[39;00m\n\u001B[1;32m---> 56\u001B[0m solution_path, queue, visited, state_parents, metrics \u001B[38;5;241m=\u001B[39m \u001B[43mgraph_search_agent\u001B[49m(initial_state, goal_state, search_depth)\n\u001B[0;32m     58\u001B[0m \u001B[38;5;66;03m# Check if a solution was found and either display the solution or print failure\u001B[39;00m\n\u001B[0;32m     59\u001B[0m \u001B[38;5;28;01mif\u001B[39;00m solution_path:\n",
      "\u001B[1;31mNameError\u001B[0m: name 'graph_search_agent' is not defined"
     ]
    }
   ],
   "source": [
    "# 1.5\n",
    "# Code to generate Puzzle-8 instances with the goal state at depth “d”\n",
    "\n",
    "def generate_puzzle_instance(goal_state, depth):\n",
    "    current_state = goal_state  # Start with the goal state\n",
    "\n",
    "    # Apply random moves up to the given depth to generate the puzzle instance\n",
    "    for _ in range(depth):\n",
    "        # Get the possible successors of the current state\n",
    "        successors = get_successors(Node(current_state))\n",
    "\n",
    "        # Randomly choose one successor as the next state\n",
    "        next_state = random.choice(successors)\n",
    "        \n",
    "        # Update the current state to the chosen successor\n",
    "        current_state = next_state\n",
    "\n",
    "    return current_state  # Return the generated puzzle instance\n"
   ],
   "metadata": {
    "collapsed": false,
    "ExecuteTime": {
     "end_time": "2024-09-29T07:40:52.840299Z",
     "start_time": "2024-09-29T07:40:51.547324Z"
    }
   },
   "id": "12f9b592c4337fc7",
   "execution_count": 4
  },
  {
   "cell_type": "code",
   "outputs": [],
   "source": [
    "#Prepare a table indicating the memory and time requirements to solve Puzzle-8 instances (depth “d”) using your graph search agent.\n",
    "\n",
    "# Print results table\n",
    "print(\"Depth | Nodes Explored | Time Elapsed (s) | Memory Used (bytes)\")\n",
    "print(\"------|----------------|-------------------|--------------------\")\n",
    "for depth, nodes, time_elapsed, memory_used in results:\n",
    "    print(f\"{depth:<6}|{nodes:<16.2f}|{time_elapsed:<19.4f}|{memory_used:<20.0f}\")"
   ],
   "metadata": {
    "collapsed": false
   },
   "id": "9ecaac516e8204bb"
  }
 ],
 "metadata": {
  "kernelspec": {
   "display_name": "Python 3",
   "language": "python",
   "name": "python3"
  },
  "language_info": {
   "codemirror_mode": {
    "name": "ipython",
    "version": 2
   },
   "file_extension": ".py",
   "mimetype": "text/x-python",
   "name": "python",
   "nbconvert_exporter": "python",
   "pygments_lexer": "ipython2",
   "version": "2.7.6"
  }
 },
 "nbformat": 4,
 "nbformat_minor": 5
}
